{
 "cells": [
  {
   "cell_type": "code",
   "execution_count": 3,
   "id": "1ae82254-b909-4377-940e-04d9c37bf192",
   "metadata": {},
   "outputs": [],
   "source": [
    "import main"
   ]
  },
  {
   "cell_type": "code",
   "execution_count": 2,
   "id": "dcf594f6-d3a9-4c4d-afe7-b0b84ef33021",
   "metadata": {},
   "outputs": [
    {
     "name": "stdout",
     "output_type": "stream",
     "text": [
      "Object `note` not found.\n"
     ]
    }
   ],
   "source": [
    "s1 = \"Ada brought a short note to Irene.\"\n",
    "q1 = \"Who brought the note?\"\n",
    "q2 = \"What did Ada bring?\"\n",
    "q3 = \"Who did Ada bring the note to?\"\n",
    "q4 = \"How long was the note?\n",
    "\n",
    "\n",
    "s2 = \"David and Lucy walk one mile to go to school every day at 8:00AM when there is no snow.\"\n",
    "q5 = \"Who does Lucy go to school with?\"\n",
    "q6 = \"Where do David and Lucy go?\"\n",
    "q7 = \"How far do David and Lucy walk?\"\n",
    "q8 = \"How do David and Lucy get to school?\"\n",
    "q9 = \"At what time do David and Lucy walk to school?\""
   ]
  },
  {
   "cell_type": "code",
   "execution_count": 3,
   "id": "32b7326c-470c-4003-858f-1a1d355082d8",
   "metadata": {
    "collapsed": true,
    "jupyter": {
     "outputs_hidden": true,
     "source_hidden": true
    },
    "tags": []
   },
   "outputs": [
    {
     "data": {
      "text/plain": [
       "OrderedDict([('Ada', 'name'),\n",
       "             ('brought', 'verb'),\n",
       "             ('a', 'determiner'),\n",
       "             ('short', 'adjective'),\n",
       "             ('note', 'noun'),\n",
       "             ('to', 'preposition'),\n",
       "             ('Irene', 'name')])"
      ]
     },
     "execution_count": 3,
     "metadata": {},
     "output_type": "execute_result"
    }
   ],
   "source": [
    "wd = word_dict.word_dict\n",
    "frame = OrderedDict()\n",
    "for k in s1.rstrip(\".\").split():\n",
    "    frame[k] = wd.get(k)\n",
    "    \n",
    "frame"
   ]
  },
  {
   "cell_type": "code",
   "execution_count": 4,
   "id": "b06a8f88-c6ef-4d12-899d-a4181c0cf1cc",
   "metadata": {},
   "outputs": [
    {
     "data": {
      "text/plain": [
       "Sentence: Ada brought a short note to Irene.\n",
       "Question: Who brought the note?"
      ]
     },
     "execution_count": 4,
     "metadata": {},
     "output_type": "execute_result"
    }
   ],
   "source": [
    "from translator import Translator\n",
    "\n",
    "t = Translator(sentence=s1, question=q1)\n",
    "t"
   ]
  },
  {
   "cell_type": "code",
   "execution_count": 18,
   "id": "007d9c0f-3bf6-4463-95a0-278626fdb54c",
   "metadata": {},
   "outputs": [
    {
     "data": {
      "text/plain": [
       "5"
      ]
     },
     "execution_count": 18,
     "metadata": {},
     "output_type": "execute_result"
    }
   ],
   "source": [
    "list(zip(*t.sentence.chunks[2])).index(('preposition', 'name'))"
   ]
  },
  {
   "cell_type": "code",
   "execution_count": null,
   "id": "0538b938-a312-4e22-a671-66dca758c85b",
   "metadata": {},
   "outputs": [],
   "source": []
  },
  {
   "cell_type": "code",
   "execution_count": 14,
   "id": "b3cfdc4f-ae35-45d6-be65-f2b302f72c09",
   "metadata": {},
   "outputs": [
    {
     "name": "stdout",
     "output_type": "stream",
     "text": [
      "('name', 'verb')\n",
      "('verb', 'determiner')\n",
      "('determiner', 'adjective')\n",
      "('adjective', 'noun')\n",
      "('noun', 'preposition')\n",
      "('preposition', 'name')\n"
     ]
    }
   ],
   "source": [
    "for x in zip(*t.sentence.chunks[2]):\n",
    "    print(x)"
   ]
  },
  {
   "cell_type": "code",
   "execution_count": 7,
   "id": "2628260f-c90d-4d43-be6a-e951c2395c8c",
   "metadata": {},
   "outputs": [
    {
     "data": {
      "text/plain": [
       "False"
      ]
     },
     "execution_count": 7,
     "metadata": {},
     "output_type": "execute_result"
    }
   ],
   "source": [
    "t.sentence.scan_chunks(sequence=t.multi_agents)"
   ]
  },
  {
   "cell_type": "code",
   "execution_count": 40,
   "id": "1f471df7-6d7f-4c34-9dcb-2dc008c3a750",
   "metadata": {},
   "outputs": [],
   "source": [
    "if \"who\" in q1.lower():\n",
    "    name_pos = tag.index(\"name\")\n",
    "    answer = phrase[name_pos]"
   ]
  },
  {
   "cell_type": "code",
   "execution_count": 62,
   "id": "9e0d2b1e-e52a-4799-ad97-a49aaf2b9335",
   "metadata": {},
   "outputs": [],
   "source": [
    "two = ('name', 'conjunction', 'name')"
   ]
  },
  {
   "cell_type": "code",
   "execution_count": 80,
   "id": "df003e43-d521-428f-82dc-211c064cf69c",
   "metadata": {},
   "outputs": [
    {
     "data": {
      "text/plain": [
       "[('David', 'and', 'Lucy'),\n",
       " ('and', 'Lucy', 'walk'),\n",
       " ('Lucy', 'walk', 'one'),\n",
       " ('walk', 'one', 'mile'),\n",
       " ('one', 'mile', 'to'),\n",
       " ('mile', 'to', 'go'),\n",
       " ('to', 'go', 'to'),\n",
       " ('go', 'to', 'school'),\n",
       " ('to', 'school', 'every'),\n",
       " ('school', 'every', 'day'),\n",
       " ('every', 'day', 'at'),\n",
       " ('day', 'at', '8:00AM'),\n",
       " ('at', '8:00AM', 'when'),\n",
       " ('8:00AM', 'when', 'there'),\n",
       " ('when', 'there', 'is'),\n",
       " ('there', 'is', 'no'),\n",
       " ('is', 'no', 'snow')]"
      ]
     },
     "execution_count": 80,
     "metadata": {},
     "output_type": "execute_result"
    }
   ],
   "source": [
    "combo = [x for x in zip(phrase, phrase[1:], phrase[2:])]\n",
    "combo      "
   ]
  },
  {
   "cell_type": "code",
   "execution_count": 12,
   "id": "806253a5-63c6-415d-ba2e-b9d9c5f737a1",
   "metadata": {},
   "outputs": [],
   "source": [
    "import re"
   ]
  },
  {
   "cell_type": "code",
   "execution_count": 16,
   "id": "0864f28d-185d-408e-81bb-c46425864e72",
   "metadata": {},
   "outputs": [],
   "source": [
    "pattern = '((1[0-2]|0?[1-9]):([0-5][0-9]) ([AaPp][Mm]))'\n",
    "re.search(pattern, \"8:00AM\")"
   ]
  },
  {
   "cell_type": "code",
   "execution_count": 19,
   "id": "28a30ad8-971c-4aae-8dfe-789a80a7083a",
   "metadata": {},
   "outputs": [
    {
     "name": "stdout",
     "output_type": "stream",
     "text": [
      "The original string is : 8:00AM\n",
      "Does date match format? : True\n"
     ]
    }
   ],
   "source": [
    "# Python3 code to demonstrate working of\n",
    "# Validate String date format\n",
    "# Using strptime()\n",
    "from datetime import datetime\n",
    " \n",
    "# initializing string\n",
    "test_str = '8:00AM'\n",
    " \n",
    "# printing original string\n",
    "print(\"The original string is : \" + str(test_str))\n",
    " \n",
    "# initializing format\n",
    "format = \"%I:%M%p\"\n",
    " \n",
    "# checking if format matches the date\n",
    "res = True\n",
    " \n",
    "# using try-except to check for truth value\n",
    "try:\n",
    "    res = bool(datetime.strptime(test_str, format))\n",
    "except ValueError:\n",
    "    res = False\n",
    " \n",
    "# printing result\n",
    "print(\"Does date match format? : \" + str(res))"
   ]
  },
  {
   "cell_type": "code",
   "execution_count": null,
   "id": "8e426b31-1459-4b70-863e-ecd48102ea34",
   "metadata": {},
   "outputs": [],
   "source": []
  }
 ],
 "metadata": {
  "kernelspec": {
   "display_name": "Python 3 (ipykernel)",
   "language": "python",
   "name": "python3"
  },
  "language_info": {
   "codemirror_mode": {
    "name": "ipython",
    "version": 3
   },
   "file_extension": ".py",
   "mimetype": "text/x-python",
   "name": "python",
   "nbconvert_exporter": "python",
   "pygments_lexer": "ipython3",
   "version": "3.10.2"
  }
 },
 "nbformat": 4,
 "nbformat_minor": 5
}
