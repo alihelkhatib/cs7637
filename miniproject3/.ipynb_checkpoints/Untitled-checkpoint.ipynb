{
 "cells": [
  {
   "cell_type": "code",
   "execution_count": 23,
   "id": "1ae82254-b909-4377-940e-04d9c37bf192",
   "metadata": {},
   "outputs": [],
   "source": [
    "import main\n",
    "import word_dict\n",
    "from collections import OrderedDict"
   ]
  },
  {
   "cell_type": "code",
   "execution_count": 13,
   "id": "dcf594f6-d3a9-4c4d-afe7-b0b84ef33021",
   "metadata": {},
   "outputs": [
    {
     "name": "stdout",
     "output_type": "stream",
     "text": [
      "Object `note` not found.\n"
     ]
    }
   ],
   "source": [
    "s1 = \"Ada brought a short note to Irene.\"\n",
    "q1 = \"Who brought the note?\"\n",
    "q2 = \"What did Ada bring?\"\n",
    "q3 = \"Who did Ada bring the note to?\"\n",
    "q4 = \"How long was the note?\n",
    "\n",
    "\n",
    "s2 = \"David and Lucy walk one mile to go to school every day at 8:00AM when there is no snow.\"\n",
    "q5 = \"Who does Lucy go to school with?\"\n",
    "q6 = \"Where do David and Lucy go?\"\n",
    "q7 = \"How far do David and Lucy walk?\"\n",
    "q8 = \"How do David and Lucy get to school?\"\n",
    "q9 = \"At what time do David and Lucy walk to school?\""
   ]
  },
  {
   "cell_type": "code",
   "execution_count": 33,
   "id": "32b7326c-470c-4003-858f-1a1d355082d8",
   "metadata": {},
   "outputs": [
    {
     "data": {
      "text/plain": [
       "OrderedDict([('Ada', 'name'),\n",
       "             ('brought', 'verb'),\n",
       "             ('a', 'determiner'),\n",
       "             ('short', 'adjective'),\n",
       "             ('note', 'noun'),\n",
       "             ('to', 'preposition'),\n",
       "             ('Irene', 'name')])"
      ]
     },
     "execution_count": 33,
     "metadata": {},
     "output_type": "execute_result"
    }
   ],
   "source": [
    "wd = word_dict.word_dict\n",
    "frame = OrderedDict()\n",
    "for k in s1.rstrip(\".\").split():\n",
    "    frame[k] = wd.get(k)\n",
    "    \n",
    "frame"
   ]
  },
  {
   "cell_type": "code",
   "execution_count": 35,
   "id": "053c61f7-fe64-4f04-882b-7865116b731e",
   "metadata": {},
   "outputs": [
    {
     "data": {
      "text/plain": [
       "['Ada', 'brought', 'a', 'short', 'note', 'to', 'Irene']"
      ]
     },
     "execution_count": 35,
     "metadata": {},
     "output_type": "execute_result"
    }
   ],
   "source": [
    "phrase = s1.rstrip(\"?.\")\n",
    "phrase = phrase.split()\n",
    "\n",
    "frame = {k:wd.get(k) for k in phrase}\n",
    "phrase"
   ]
  },
  {
   "cell_type": "code",
   "execution_count": 36,
   "id": "1f471df7-6d7f-4c34-9dcb-2dc008c3a750",
   "metadata": {},
   "outputs": [
    {
     "data": {
      "text/plain": [
       "{'Ada': 'name',\n",
       " 'brought': 'verb',\n",
       " 'a': 'determiner',\n",
       " 'short': 'adjective',\n",
       " 'note': 'noun',\n",
       " 'to': 'preposition',\n",
       " 'Irene': 'name'}"
      ]
     },
     "execution_count": 36,
     "metadata": {},
     "output_type": "execute_result"
    }
   ],
   "source": [
    "frame"
   ]
  },
  {
   "cell_type": "code",
   "execution_count": 20,
   "id": "8b7f5e57-5736-49f2-b2b1-36a4b3bdac76",
   "metadata": {},
   "outputs": [
    {
     "data": {
      "text/plain": [
       "\u001b[1;31mDocstring:\u001b[0m\n",
       "S.format_map(mapping) -> str\n",
       "\n",
       "Return a formatted version of S, using substitutions from mapping.\n",
       "The substitutions are identified by braces ('{' and '}').\n",
       "\u001b[1;31mType:\u001b[0m      builtin_function_or_method\n"
      ]
     },
     "metadata": {},
     "output_type": "display_data"
    }
   ],
   "source": [
    "s1.format_map?"
   ]
  },
  {
   "cell_type": "code",
   "execution_count": 21,
   "id": "67958633-3f2b-4173-943a-26644a08c100",
   "metadata": {},
   "outputs": [
    {
     "data": {
      "text/plain": [
       "'!\"#$%&\\'()*+,-./:;<=>?@[\\\\]^_`{|}~'"
      ]
     },
     "execution_count": 21,
     "metadata": {},
     "output_type": "execute_result"
    }
   ],
   "source": [
    "import string \n",
    "\n",
    "string.punctuation"
   ]
  },
  {
   "cell_type": "code",
   "execution_count": null,
   "id": "952a8736-17c9-41e9-95dc-b24cc5e8af04",
   "metadata": {},
   "outputs": [],
   "source": []
  }
 ],
 "metadata": {
  "kernelspec": {
   "display_name": "Python 3 (ipykernel)",
   "language": "python",
   "name": "python3"
  },
  "language_info": {
   "codemirror_mode": {
    "name": "ipython",
    "version": 3
   },
   "file_extension": ".py",
   "mimetype": "text/x-python",
   "name": "python",
   "nbconvert_exporter": "python",
   "pygments_lexer": "ipython3",
   "version": "3.10.2"
  }
 },
 "nbformat": 4,
 "nbformat_minor": 5
}
