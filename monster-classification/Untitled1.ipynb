{
 "cells": [
  {
   "cell_type": "code",
   "execution_count": 1,
   "id": "af0a1cf0-d069-4c11-bdab-af5d39ebb86e",
   "metadata": {},
   "outputs": [],
   "source": [
    "known_positive_1 = {'size': 'huge', 'color': 'black', 'covering': 'fur', 'foot-type': 'paw', 'leg-count': 2,\n",
    "                        'arm-count': 4, 'eye-count': 2, 'horn-count': 0, 'lays-eggs': True, 'has-wings': True,\n",
    "                        'has_gills': True, 'has-tail': True}\n",
    "known_positive_2 = {'size': 'large', 'color': 'white', 'covering': 'fur', 'foot-type': 'paw', 'leg-count': 2,\n",
    "                    'arm-count': 4, 'eye-count': 2, 'horn-count': 0, 'lays-eggs': True, 'has-wings': True,\n",
    "                    'has_gills': True, 'has-tail': False}\n",
    "known_positive_3 = {'size': 'huge', 'color': 'white', 'covering': 'fur', 'foot-type': 'paw', 'leg-count': 2,\n",
    "                    'arm-count': 4, 'eye-count': 2, 'horn-count': 0, 'lays-eggs': True, 'has-wings': True,\n",
    "                    'has_gills': False, 'has-tail': True}\n",
    "known_positive_4 = {'size': 'large', 'color': 'black', 'covering': 'fur', 'foot-type': 'paw', 'leg-count': 1,\n",
    "                    'arm-count': 3, 'eye-count': 2, 'horn-count': 0, 'lays-eggs': True, 'has-wings': True,\n",
    "                    'has_gills': True, 'has-tail': True}\n",
    "known_positive_5 = {'size': 'large', 'color': 'white', 'covering': 'fur', 'foot-type': 'foot', 'leg-count': 2,\n",
    "                    'arm-count': 4, 'eye-count': 2, 'horn-count': 0, 'lays-eggs': True, 'has-wings': True,\n",
    "                    'has_gills': False, 'has-tail': False}\n",
    "known_negative_1 = {'size': 'large', 'color': 'blue', 'covering': 'fur', 'foot-type': 'paw', 'leg-count': 2,\n",
    "                    'arm-count': 4, 'eye-count': 2, 'horn-count': 0, 'lays-eggs': True, 'has-wings': True,\n",
    "                    'has_gills': True, 'has-tail': True}\n",
    "known_negative_2 = {'size': 'tiny', 'color': 'red', 'covering': 'scales', 'foot-type': 'none', 'leg-count': 0,\n",
    "                    'arm-count': 8, 'eye-count': 8, 'horn-count': 2, 'lays-eggs': False, 'has-wings': False,\n",
    "                    'has_gills': False, 'has-tail': False}\n",
    "known_negative_3 = {'size': 'medium', 'color': 'gray', 'covering': 'fur', 'foot-type': 'foot', 'leg-count': 2,\n",
    "                    'arm-count': 6, 'eye-count': 2, 'horn-count': 0, 'lays-eggs': True, 'has-wings': False,\n",
    "                    'has_gills': False, 'has-tail': False}\n",
    "known_negative_4 = {'size': 'huge', 'color': 'black', 'covering': 'fur', 'foot-type': 'paw', 'leg-count': 2,\n",
    "                    'arm-count': 6, 'eye-count': 2, 'horn-count': 2, 'lays-eggs': True, 'has-wings': True,\n",
    "                    'has_gills': False, 'has-tail': False}\n",
    "known_negative_5 = {'size': 'medium', 'color': 'purple', 'covering': 'fur', 'foot-type': 'talon', 'leg-count': 2,\n",
    "                    'arm-count': 4, 'eye-count': 2, 'horn-count': 0, 'lays-eggs': False, 'has-wings': False,\n",
    "                    'has_gills': True, 'has-tail': False}\n",
    "\n",
    "monster_list = [(known_positive_1, True), (known_positive_2, True), (known_positive_3, True),\n",
    "                (known_positive_4, True), (known_positive_5, True),\n",
    "                (known_negative_1, False), (known_negative_2, False), (known_negative_3, False),\n",
    "                (known_negative_4, False), (known_negative_5, False)]\n",
    "\n",
    "new_monster_1 = {'size': 'large', 'color': 'black', 'covering': 'fur', 'foot-type': 'paw', 'leg-count': 1,\n",
    "                 'arm-count': 3, 'eye-count': 2, 'horn-count': 0, 'lays-eggs': True, 'has-wings': True,\n",
    "                 'has_gills': True, 'has-tail': True}\n",
    "new_monster_2 = {'size': 'tiny', 'color': 'red', 'covering': 'scales', 'foot-type': 'none', 'leg-count': 0,\n",
    "                 'arm-count': 8, 'eye-count': 8, 'horn-count': 2, 'lays-eggs': False, 'has-wings': False,\n",
    "                 'has_gills': False, 'has-tail': False}\n",
    "new_monster_3 = {'size': 'large', 'color': 'gray', 'covering': 'fur', 'foot-type': 'foot', 'leg-count': 1,\n",
    "                 'arm-count': 3, 'eye-count': 2, 'horn-count': 0, 'lays-eggs': True, 'has-wings': True,\n",
    "                 'has_gills': False, 'has-tail': False}\n",
    "new_monster_4 = {'size': 'small', 'color': 'black', 'covering': 'scales', 'foot-type': 'paw', 'leg-count': 2,\n",
    "                 'arm-count': 4, 'eye-count': 2, 'horn-count': 0, 'lays-eggs': True, 'has-wings': True,\n",
    "                 'has_gills': False, 'has-tail': False}"
   ]
  },
  {
   "cell_type": "code",
   "execution_count": 2,
   "id": "a5a729f6-2f96-4dfd-92bb-a3e263965f27",
   "metadata": {},
   "outputs": [
    {
     "data": {
      "text/plain": [
       "{'size': 'huge',\n",
       " 'color': 'black',\n",
       " 'covering': 'fur',\n",
       " 'foot-type': 'paw',\n",
       " 'leg-count': 2,\n",
       " 'arm-count': 4,\n",
       " 'eye-count': 2,\n",
       " 'horn-count': 0,\n",
       " 'lays-eggs': True,\n",
       " 'has-wings': True,\n",
       " 'has_gills': True,\n",
       " 'has-tail': True}"
      ]
     },
     "execution_count": 2,
     "metadata": {},
     "output_type": "execute_result"
    }
   ],
   "source": [
    "known_positive_1"
   ]
  },
  {
   "cell_type": "code",
   "execution_count": null,
   "id": "957f383b-9695-42ec-994c-f193408fb07c",
   "metadata": {},
   "outputs": [],
   "source": []
  }
 ],
 "metadata": {
  "kernelspec": {
   "display_name": "Python 3 (ipykernel)",
   "language": "python",
   "name": "python3"
  },
  "language_info": {
   "codemirror_mode": {
    "name": "ipython",
    "version": 3
   },
   "file_extension": ".py",
   "mimetype": "text/x-python",
   "name": "python",
   "nbconvert_exporter": "python",
   "pygments_lexer": "ipython3",
   "version": "3.10.2"
  }
 },
 "nbformat": 4,
 "nbformat_minor": 5
}
