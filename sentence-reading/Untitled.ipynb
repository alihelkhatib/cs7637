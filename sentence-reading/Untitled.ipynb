{
 "cells": [
  {
   "cell_type": "code",
   "execution_count": 1,
   "id": "6eb174a8-ecae-433b-b008-5ba82b7d0bc0",
   "metadata": {},
   "outputs": [],
   "source": [
    "from SentenceReadingAgent import SentenceReadingAgent\n",
    "from question_translator import translate_string_to_question_frame\n",
    "from sentence_translator import translate_string_to_sentence_frame\n",
    "from question_respondent import answer_question_about_sentence"
   ]
  },
  {
   "cell_type": "code",
   "execution_count": 2,
   "id": "a19c38b7-6c38-49a1-ba1e-f31b93bd0b2a",
   "metadata": {},
   "outputs": [],
   "source": [
    "s12 = \"The house is made of paper.\"\n",
    "q21 = \"What is the house made of?\""
   ]
  },
  {
   "cell_type": "code",
   "execution_count": 3,
   "id": "07b41712-7a36-4278-844c-c6cca9f235dc",
   "metadata": {},
   "outputs": [
    {
     "data": {
      "text/plain": [
       "'house'"
      ]
     },
     "execution_count": 3,
     "metadata": {},
     "output_type": "execute_result"
    }
   ],
   "source": [
    "test_agent = SentenceReadingAgent()\n",
    "test_agent.solve(s12, q21)"
   ]
  },
  {
   "cell_type": "code",
   "execution_count": 4,
   "id": "a4a13ef5-0f51-4574-8133-0f5147b772cf",
   "metadata": {},
   "outputs": [],
   "source": [
    "sframe = translate_string_to_sentence_frame(s12)"
   ]
  },
  {
   "cell_type": "code",
   "execution_count": 5,
   "id": "ed735541-53fc-480b-9526-86c4fec3953d",
   "metadata": {},
   "outputs": [
    {
     "data": {
      "text/plain": [
       "subjects words: ['house']\n",
       "verb: is\n",
       "noun: None\n",
       "noun_adjectives: []\n",
       "recipent: None\n",
       "location: None\n",
       "time: None\n",
       "quantities: None"
      ]
     },
     "execution_count": 5,
     "metadata": {},
     "output_type": "execute_result"
    }
   ],
   "source": [
    "sframe"
   ]
  },
  {
   "cell_type": "code",
   "execution_count": null,
   "id": "6e69eeed-0faa-40f1-bfa8-2de17900a6d5",
   "metadata": {},
   "outputs": [],
   "source": []
  }
 ],
 "metadata": {
  "kernelspec": {
   "display_name": "Python 3 (ipykernel)",
   "language": "python",
   "name": "python3"
  },
  "language_info": {
   "codemirror_mode": {
    "name": "ipython",
    "version": 3
   },
   "file_extension": ".py",
   "mimetype": "text/x-python",
   "name": "python",
   "nbconvert_exporter": "python",
   "pygments_lexer": "ipython3",
   "version": "3.10.2"
  }
 },
 "nbformat": 4,
 "nbformat_minor": 5
}
